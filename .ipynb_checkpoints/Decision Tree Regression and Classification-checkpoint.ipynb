{
 "cells": [
  {
   "cell_type": "markdown",
   "metadata": {},
   "source": [
    "# Implementation of Decision Tree Classification and Decision Tree Regression in R on UCI dataset"
   ]
  },
  {
   "cell_type": "markdown",
   "metadata": {},
   "source": [
    "## Implementing Decision Tree Regression"
   ]
  },
  {
   "cell_type": "markdown",
   "metadata": {},
   "source": [
    "### Dataset Description\n",
    "**Boston Housing Data**\n",
    "- Description: Predict the house price in Boston from house details<br/>\n",
    "- Type: Regression<br/>\n",
    "- Dimensions: 506 instances, 14 attributes<br/>\n",
    "- Inputs: Numeric<br/>\n",
    "- Output: Numeric<br/>\n",
    "- UCI Machine Learning Repository<br/>"
   ]
  },
  {
   "cell_type": "markdown",
   "metadata": {},
   "source": [
    "### Loading the dataset"
   ]
  },
  {
   "cell_type": "code",
   "execution_count": 1,
   "metadata": {},
   "outputs": [
    {
     "data": {
      "text/html": [
       "<ol class=list-inline>\n",
       "\t<li>506</li>\n",
       "\t<li>14</li>\n",
       "</ol>\n"
      ],
      "text/latex": [
       "\\begin{enumerate*}\n",
       "\\item 506\n",
       "\\item 14\n",
       "\\end{enumerate*}\n"
      ],
      "text/markdown": [
       "1. 506\n",
       "2. 14\n",
       "\n",
       "\n"
      ],
      "text/plain": [
       "[1] 506  14"
      ]
     },
     "metadata": {},
     "output_type": "display_data"
    },
    {
     "data": {
      "text/html": [
       "<table>\n",
       "<thead><tr><th scope=col>crim</th><th scope=col>zn</th><th scope=col>indus</th><th scope=col>chas</th><th scope=col>nox</th><th scope=col>rm</th><th scope=col>age</th><th scope=col>dis</th><th scope=col>rad</th><th scope=col>tax</th><th scope=col>ptratio</th><th scope=col>b</th><th scope=col>lstat</th><th scope=col>medv</th></tr></thead>\n",
       "<tbody>\n",
       "\t<tr><td>0.00632</td><td>18     </td><td>2.31   </td><td>0      </td><td>0.538  </td><td>6.575  </td><td>65.2   </td><td>4.0900 </td><td>1      </td><td>296    </td><td>15.3   </td><td>396.90 </td><td>4.98   </td><td>24.0   </td></tr>\n",
       "\t<tr><td>0.02731</td><td> 0     </td><td>7.07   </td><td>0      </td><td>0.469  </td><td>6.421  </td><td>78.9   </td><td>4.9671 </td><td>2      </td><td>242    </td><td>17.8   </td><td>396.90 </td><td>9.14   </td><td>21.6   </td></tr>\n",
       "\t<tr><td>0.02729</td><td> 0     </td><td>7.07   </td><td>0      </td><td>0.469  </td><td>7.185  </td><td>61.1   </td><td>4.9671 </td><td>2      </td><td>242    </td><td>17.8   </td><td>392.83 </td><td>4.03   </td><td>34.7   </td></tr>\n",
       "\t<tr><td>0.03237</td><td> 0     </td><td>2.18   </td><td>0      </td><td>0.458  </td><td>6.998  </td><td>45.8   </td><td>6.0622 </td><td>3      </td><td>222    </td><td>18.7   </td><td>394.63 </td><td>2.94   </td><td>33.4   </td></tr>\n",
       "\t<tr><td>0.06905</td><td> 0     </td><td>2.18   </td><td>0      </td><td>0.458  </td><td>7.147  </td><td>54.2   </td><td>6.0622 </td><td>3      </td><td>222    </td><td>18.7   </td><td>396.90 </td><td>5.33   </td><td>36.2   </td></tr>\n",
       "\t<tr><td>0.02985</td><td> 0     </td><td>2.18   </td><td>0      </td><td>0.458  </td><td>6.430  </td><td>58.7   </td><td>6.0622 </td><td>3      </td><td>222    </td><td>18.7   </td><td>394.12 </td><td>5.21   </td><td>28.7   </td></tr>\n",
       "</tbody>\n",
       "</table>\n"
      ],
      "text/latex": [
       "\\begin{tabular}{r|llllllllllllll}\n",
       " crim & zn & indus & chas & nox & rm & age & dis & rad & tax & ptratio & b & lstat & medv\\\\\n",
       "\\hline\n",
       "\t 0.00632 & 18      & 2.31    & 0       & 0.538   & 6.575   & 65.2    & 4.0900  & 1       & 296     & 15.3    & 396.90  & 4.98    & 24.0   \\\\\n",
       "\t 0.02731 &  0      & 7.07    & 0       & 0.469   & 6.421   & 78.9    & 4.9671  & 2       & 242     & 17.8    & 396.90  & 9.14    & 21.6   \\\\\n",
       "\t 0.02729 &  0      & 7.07    & 0       & 0.469   & 7.185   & 61.1    & 4.9671  & 2       & 242     & 17.8    & 392.83  & 4.03    & 34.7   \\\\\n",
       "\t 0.03237 &  0      & 2.18    & 0       & 0.458   & 6.998   & 45.8    & 6.0622  & 3       & 222     & 18.7    & 394.63  & 2.94    & 33.4   \\\\\n",
       "\t 0.06905 &  0      & 2.18    & 0       & 0.458   & 7.147   & 54.2    & 6.0622  & 3       & 222     & 18.7    & 396.90  & 5.33    & 36.2   \\\\\n",
       "\t 0.02985 &  0      & 2.18    & 0       & 0.458   & 6.430   & 58.7    & 6.0622  & 3       & 222     & 18.7    & 394.12  & 5.21    & 28.7   \\\\\n",
       "\\end{tabular}\n"
      ],
      "text/markdown": [
       "\n",
       "crim | zn | indus | chas | nox | rm | age | dis | rad | tax | ptratio | b | lstat | medv | \n",
       "|---|---|---|---|---|---|\n",
       "| 0.00632 | 18      | 2.31    | 0       | 0.538   | 6.575   | 65.2    | 4.0900  | 1       | 296     | 15.3    | 396.90  | 4.98    | 24.0    | \n",
       "| 0.02731 |  0      | 7.07    | 0       | 0.469   | 6.421   | 78.9    | 4.9671  | 2       | 242     | 17.8    | 396.90  | 9.14    | 21.6    | \n",
       "| 0.02729 |  0      | 7.07    | 0       | 0.469   | 7.185   | 61.1    | 4.9671  | 2       | 242     | 17.8    | 392.83  | 4.03    | 34.7    | \n",
       "| 0.03237 |  0      | 2.18    | 0       | 0.458   | 6.998   | 45.8    | 6.0622  | 3       | 222     | 18.7    | 394.63  | 2.94    | 33.4    | \n",
       "| 0.06905 |  0      | 2.18    | 0       | 0.458   | 7.147   | 54.2    | 6.0622  | 3       | 222     | 18.7    | 396.90  | 5.33    | 36.2    | \n",
       "| 0.02985 |  0      | 2.18    | 0       | 0.458   | 6.430   | 58.7    | 6.0622  | 3       | 222     | 18.7    | 394.12  | 5.21    | 28.7    | \n",
       "\n",
       "\n"
      ],
      "text/plain": [
       "  crim    zn indus chas nox   rm    age  dis    rad tax ptratio b      lstat\n",
       "1 0.00632 18 2.31  0    0.538 6.575 65.2 4.0900 1   296 15.3    396.90 4.98 \n",
       "2 0.02731  0 7.07  0    0.469 6.421 78.9 4.9671 2   242 17.8    396.90 9.14 \n",
       "3 0.02729  0 7.07  0    0.469 7.185 61.1 4.9671 2   242 17.8    392.83 4.03 \n",
       "4 0.03237  0 2.18  0    0.458 6.998 45.8 6.0622 3   222 18.7    394.63 2.94 \n",
       "5 0.06905  0 2.18  0    0.458 7.147 54.2 6.0622 3   222 18.7    396.90 5.33 \n",
       "6 0.02985  0 2.18  0    0.458 6.430 58.7 6.0622 3   222 18.7    394.12 5.21 \n",
       "  medv\n",
       "1 24.0\n",
       "2 21.6\n",
       "3 34.7\n",
       "4 33.4\n",
       "5 36.2\n",
       "6 28.7"
      ]
     },
     "metadata": {},
     "output_type": "display_data"
    }
   ],
   "source": [
    "library(mlbench)\n",
    "data(BostonHousing)\n",
    "dim(BostonHousing)\n",
    "dataset =as.data.frame(BostonHousing)\n",
    "head(dataset)"
   ]
  },
  {
   "cell_type": "code",
   "execution_count": 2,
   "metadata": {},
   "outputs": [
    {
     "name": "stdout",
     "output_type": "stream",
     "text": [
      "[1] \"Training Set Dimensions :\"\n"
     ]
    },
    {
     "data": {
      "text/html": [
       "<ol class=list-inline>\n",
       "\t<li>434</li>\n",
       "\t<li>14</li>\n",
       "</ol>\n"
      ],
      "text/latex": [
       "\\begin{enumerate*}\n",
       "\\item 434\n",
       "\\item 14\n",
       "\\end{enumerate*}\n"
      ],
      "text/markdown": [
       "1. 434\n",
       "2. 14\n",
       "\n",
       "\n"
      ],
      "text/plain": [
       "[1] 434  14"
      ]
     },
     "metadata": {},
     "output_type": "display_data"
    },
    {
     "name": "stdout",
     "output_type": "stream",
     "text": [
      "[1] \"Testing Set Dimensions :\"\n"
     ]
    },
    {
     "data": {
      "text/html": [
       "<ol class=list-inline>\n",
       "\t<li>72</li>\n",
       "\t<li>14</li>\n",
       "</ol>\n"
      ],
      "text/latex": [
       "\\begin{enumerate*}\n",
       "\\item 72\n",
       "\\item 14\n",
       "\\end{enumerate*}\n"
      ],
      "text/markdown": [
       "1. 72\n",
       "2. 14\n",
       "\n",
       "\n"
      ],
      "text/plain": [
       "[1] 72 14"
      ]
     },
     "metadata": {},
     "output_type": "display_data"
    }
   ],
   "source": [
    "library(caTools)\n",
    "set.seed(123)\n",
    "split = sample.split(dataset$medv,SplitRatio= 0.8)\n",
    "training_set = subset(dataset, split==TRUE)\n",
    "test_set = subset(dataset, split==FALSE)\n",
    "print(\"Training Set Dimensions :\")\n",
    "dim(training_set)\n",
    "print(\"Testing Set Dimensions :\")\n",
    "dim(test_set)"
   ]
  },
  {
   "cell_type": "markdown",
   "metadata": {},
   "source": [
    "## Simple Decision Tree Regression"
   ]
  },
  {
   "cell_type": "markdown",
   "metadata": {},
   "source": [
    "### Investigating the relationship between lstat (% lower status of the population) and medv(Median value of owner-occupied homes in `$1000's`)"
   ]
  },
  {
   "cell_type": "code",
   "execution_count": 3,
   "metadata": {},
   "outputs": [
    {
     "name": "stdout",
     "output_type": "stream",
     "text": [
      "Call:\n",
      "rpart(formula = medv ~ lstat, data = training_set, control = rpart.control(minsplit = 10))\n",
      "  n= 434 \n",
      "\n",
      "          CP nsplit rel error    xerror       xstd\n",
      "1 0.47424432      0 1.0000000 1.0048375 0.08461856\n",
      "2 0.10677206      1 0.5257557 0.5559145 0.04011249\n",
      "3 0.10397841      2 0.4189836 0.5091959 0.04120440\n",
      "4 0.01613155      3 0.3150052 0.3709926 0.03391545\n",
      "5 0.01057747      4 0.2988737 0.3715410 0.03412344\n",
      "6 0.01054335      5 0.2882962 0.3614269 0.03396146\n",
      "7 0.01000000      6 0.2777528 0.3563528 0.03379356\n",
      "\n",
      "Variable importance\n",
      "lstat \n",
      "  100 \n",
      "\n",
      "Node number 1: 434 observations,    complexity param=0.4742443\n",
      "  mean=22.70207, MSE=88.8985 \n",
      "  left son=2 (299 obs) right son=3 (135 obs)\n",
      "  Primary splits:\n",
      "      lstat < 7.685 to the right, improve=0.4742443, (0 missing)\n",
      "\n",
      "Node number 2: 299 observations,    complexity param=0.1067721\n",
      "  mean=18.33913, MSE=32.04874 \n",
      "  left son=4 (141 obs) right son=5 (158 obs)\n",
      "  Primary splits:\n",
      "      lstat < 15    to the right, improve=0.4298923, (0 missing)\n",
      "\n",
      "Node number 3: 135 observations,    complexity param=0.1039784\n",
      "  mean=32.36519, MSE=79.27486 \n",
      "  left son=6 (87 obs) right son=7 (48 obs)\n",
      "  Primary splits:\n",
      "      lstat < 4.65  to the right, improve=0.3748505, (0 missing)\n",
      "\n",
      "Node number 4: 141 observations,    complexity param=0.01613155\n",
      "  mean=14.40993, MSE=19.05735 \n",
      "  left son=8 (69 obs) right son=9 (72 obs)\n",
      "  Primary splits:\n",
      "      lstat < 19.85 to the right, improve=0.2316214, (0 missing)\n",
      "\n",
      "Node number 5: 158 observations,    complexity param=0.01057747\n",
      "  mean=21.84557, MSE=17.5697 \n",
      "  left son=10 (104 obs) right son=11 (54 obs)\n",
      "  Primary splits:\n",
      "      lstat < 9.725 to the right, improve=0.1470093, (0 missing)\n",
      "\n",
      "Node number 6: 87 observations\n",
      "  mean=28.31609, MSE=40.54894 \n",
      "\n",
      "Node number 7: 48 observations,    complexity param=0.01054335\n",
      "  mean=39.70417, MSE=65.88873 \n",
      "  left son=14 (31 obs) right son=15 (17 obs)\n",
      "  Primary splits:\n",
      "      lstat < 3.325 to the right, improve=0.1286205, (0 missing)\n",
      "\n",
      "Node number 8: 69 observations\n",
      "  mean=12.26377, MSE=16.71246 \n",
      "\n",
      "Node number 9: 72 observations\n",
      "  mean=16.46667, MSE=12.66028 \n",
      "\n",
      "Node number 10: 104 observations\n",
      "  mean=20.6875, MSE=10.11532 \n",
      "\n",
      "Node number 11: 54 observations\n",
      "  mean=24.07593, MSE=24.36886 \n",
      "\n",
      "Node number 14: 31 observations\n",
      "  mean=37.54839, MSE=66.31669 \n",
      "\n",
      "Node number 15: 17 observations\n",
      "  mean=43.63529, MSE=41.17993 \n",
      "\n"
     ]
    }
   ],
   "source": [
    "library(rpart)\n",
    "regressor = rpart(formula = medv ~ lstat,\n",
    "                 data=training_set,\n",
    "                 control = rpart.control(minsplit = 10))\n",
    "summary(regressor)"
   ]
  },
  {
   "cell_type": "code",
   "execution_count": 4,
   "metadata": {},
   "outputs": [
    {
     "data": {},
     "metadata": {},
     "output_type": "display_data"
    },
    {
     "data": {
      "image/png": "[encoded data removed]",
      "text/plain": [
       "plot without title"
      ]
     },
     "metadata": {},
     "output_type": "display_data"
    }
   ],
   "source": [
    "library(ggplot2)\n",
    "x_grid = seq(min(training_set$lstat), max(training_set$lstat), 0.01)\n",
    "ggplot() +\n",
    "  geom_point(aes(x = training_set$lstat, y = training_set$medv),\n",
    "             colour = 'red') +\n",
    "  geom_line(aes(x = x_grid, y = predict(regressor,\n",
    "                                        newdata = data.frame(lstat = x_grid,\n",
    "                                                             lstat2 = x_grid^2,\n",
    "                                                             lstat3 = x_grid^3,\n",
    "                                                             lstat4 = x_grid^4))),\n",
    "            colour = 'blue') +\n",
    "  ggtitle('Decision-Tree Regression for Boston House Prediction') +\n",
    "  xlab('lstat') +\n",
    "  ylab('Price')"
   ]
  },
  {
   "cell_type": "markdown",
   "metadata": {},
   "source": [
    "### Visualizing Results on Test Data"
   ]
  },
  {
   "cell_type": "code",
   "execution_count": 5,
   "metadata": {},
   "outputs": [
    {
     "data": {},
     "metadata": {},
     "output_type": "display_data"
    },
    {
     "data": {
      "image/png": "[encoded data removed]",
      "text/plain": [
       "plot without title"
      ]
     },
     "metadata": {},
     "output_type": "display_data"
    }
   ],
   "source": [
    "library(ggplot2)\n",
    "x_grid = seq(min(test_set$lstat), max(test_set$lstat), 0.01)\n",
    "ggplot() +\n",
    "  geom_point(aes(x = test_set$lstat, y = test_set$medv),\n",
    "             colour = 'red') +\n",
    "  geom_line(aes(x = x_grid, y = predict(regressor,\n",
    "                                        newdata = data.frame(lstat = x_grid,\n",
    "                                                             lstat2 = x_grid^2,\n",
    "                                                             lstat3 = x_grid^3,\n",
    "                                                             lstat4 = x_grid^4))),\n",
    "            colour = 'blue') +\n",
    "  ggtitle('Decision-Tree Regression for Boston House Prediction(Test Set)') +\n",
    "  xlab('lstat') +\n",
    "  ylab('Price')"
   ]
  },
  {
   "cell_type": "markdown",
   "metadata": {},
   "source": [
    "## Multiple Decision Tree Regression"
   ]
  },
  {
   "cell_type": "code",
   "execution_count": 6,
   "metadata": {},
   "outputs": [
    {
     "name": "stdout",
     "output_type": "stream",
     "text": [
      "Call:\n",
      "rpart(formula = medv ~ ., data = training_set, control = rpart.control(minsplit = 4))\n",
      "  n= 434 \n",
      "\n",
      "           CP nsplit rel error    xerror       xstd\n",
      "1  0.51696045      0 1.0000000 1.0031498 0.08449975\n",
      "2  0.15719765      1 0.4830396 0.5444023 0.04870131\n",
      "3  0.08231580      2 0.3258419 0.3814763 0.04251023\n",
      "4  0.03512497      3 0.2435261 0.3111765 0.03648953\n",
      "5  0.02765126      4 0.2084011 0.2559416 0.03192794\n",
      "6  0.01746026      5 0.1807499 0.2105560 0.02823060\n",
      "7  0.01471751      6 0.1632896 0.2175377 0.02877155\n",
      "8  0.01442747      7 0.1485721 0.2153498 0.02877237\n",
      "9  0.01255829      8 0.1341446 0.2093443 0.02879237\n",
      "10 0.01000000      9 0.1215863 0.2051734 0.02880432\n",
      "\n",
      "Variable importance\n",
      "     rm   lstat   indus     nox ptratio     dis     age     tax    crim      zn \n",
      "     33      21      10       8       6       6       5       5       4       3 \n",
      "\n",
      "Node number 1: 434 observations,    complexity param=0.5169604\n",
      "  mean=22.70207, MSE=88.8985 \n",
      "  left son=2 (354 obs) right son=3 (80 obs)\n",
      "  Primary splits:\n",
      "      rm      < 6.8375   to the left,  improve=0.5169604, (0 missing)\n",
      "      lstat   < 7.685    to the right, improve=0.4742443, (0 missing)\n",
      "      indus   < 6.66     to the right, improve=0.3046307, (0 missing)\n",
      "      ptratio < 19.65    to the right, improve=0.2943749, (0 missing)\n",
      "      nox     < 0.6635   to the right, improve=0.2583582, (0 missing)\n",
      "  Surrogate splits:\n",
      "      lstat   < 4.83     to the right, agree=0.882, adj=0.362, (0 split)\n",
      "      ptratio < 14.55    to the right, agree=0.850, adj=0.188, (0 split)\n",
      "      indus   < 4.01     to the right, agree=0.846, adj=0.162, (0 split)\n",
      "      zn      < 65       to the left,  agree=0.834, adj=0.100, (0 split)\n",
      "      crim    < 0.02182  to the right, agree=0.829, adj=0.075, (0 split)\n",
      "\n",
      "Node number 2: 354 observations,    complexity param=0.1571977\n",
      "  mean=19.47938, MSE=35.82005 \n",
      "  left son=4 (151 obs) right son=5 (203 obs)\n",
      "  Primary splits:\n",
      "      lstat < 14.395   to the right, improve=0.4783004, (0 missing)\n",
      "      crim  < 5.84803  to the right, improve=0.3635700, (0 missing)\n",
      "      nox   < 0.6635   to the right, improve=0.3519270, (0 missing)\n",
      "      dis   < 2.37495  to the left,  improve=0.3388327, (0 missing)\n",
      "      indus < 16.57    to the right, improve=0.3184170, (0 missing)\n",
      "  Surrogate splits:\n",
      "      age   < 83.6     to the right, agree=0.825, adj=0.589, (0 split)\n",
      "      dis   < 2.37495  to the left,  agree=0.799, adj=0.530, (0 split)\n",
      "      indus < 16.57    to the right, agree=0.797, adj=0.523, (0 split)\n",
      "      nox   < 0.5765   to the right, agree=0.797, adj=0.523, (0 split)\n",
      "      tax   < 431      to the right, agree=0.780, adj=0.483, (0 split)\n",
      "\n",
      "Node number 3: 80 observations,    complexity param=0.0823158\n",
      "  mean=36.9625, MSE=74.45384 \n",
      "  left son=6 (50 obs) right son=7 (30 obs)\n",
      "  Primary splits:\n",
      "      rm      < 7.437    to the left,  improve=0.5332001, (0 missing)\n",
      "      lstat   < 4.68     to the right, improve=0.2890334, (0 missing)\n",
      "      nox     < 0.659    to the right, improve=0.2148471, (0 missing)\n",
      "      crim    < 7.393425 to the right, improve=0.1770852, (0 missing)\n",
      "      ptratio < 15.05    to the right, improve=0.1672493, (0 missing)\n",
      "  Surrogate splits:\n",
      "      lstat   < 3.99     to the right, agree=0.762, adj=0.367, (0 split)\n",
      "      ptratio < 14.75    to the right, agree=0.675, adj=0.133, (0 split)\n",
      "      indus   < 18.84    to the left,  agree=0.662, adj=0.100, (0 split)\n",
      "      chas    splits as  LR,           agree=0.662, adj=0.100, (0 split)\n",
      "      crim    < 0.11706  to the left,  agree=0.650, adj=0.067, (0 split)\n",
      "\n",
      "Node number 4: 151 observations,    complexity param=0.02765126\n",
      "  mean=14.68013, MSE=18.80331 \n",
      "  left son=8 (97 obs) right son=9 (54 obs)\n",
      "  Primary splits:\n",
      "      nox     < 0.607    to the right, improve=0.3757402, (0 missing)\n",
      "      crim    < 6.99237  to the right, improve=0.3658703, (0 missing)\n",
      "      dis     < 2.3348   to the left,  improve=0.3371257, (0 missing)\n",
      "      tax     < 551.5    to the right, improve=0.3089187, (0 missing)\n",
      "      ptratio < 19.9     to the right, improve=0.2988894, (0 missing)\n",
      "  Surrogate splits:\n",
      "      tax     < 397      to the right, agree=0.887, adj=0.685, (0 split)\n",
      "      indus   < 16.01    to the right, agree=0.881, adj=0.667, (0 split)\n",
      "      dis     < 2.38405  to the left,  agree=0.861, adj=0.611, (0 split)\n",
      "      crim    < 1.40092  to the right, agree=0.821, adj=0.500, (0 split)\n",
      "      ptratio < 19.9     to the right, agree=0.781, adj=0.389, (0 split)\n",
      "\n",
      "Node number 5: 203 observations,    complexity param=0.03512497\n",
      "  mean=23.04926, MSE=18.60102 \n",
      "  left son=10 (163 obs) right son=11 (40 obs)\n",
      "  Primary splits:\n",
      "      rm    < 6.543    to the left,  improve=0.35889490, (0 missing)\n",
      "      lstat < 7.685    to the right, improve=0.28039990, (0 missing)\n",
      "      dis   < 1.38485  to the right, improve=0.13524830, (0 missing)\n",
      "      nox   < 0.5125   to the right, improve=0.10824580, (0 missing)\n",
      "      tax   < 222.5    to the right, improve=0.09609564, (0 missing)\n",
      "  Surrogate splits:\n",
      "      lstat < 5.055    to the right, agree=0.862, adj=0.300, (0 split)\n",
      "      crim  < 0.023425 to the right, agree=0.818, adj=0.075, (0 split)\n",
      "      zn    < 31.5     to the left,  agree=0.813, adj=0.050, (0 split)\n",
      "      indus < 1.79     to the right, agree=0.808, adj=0.025, (0 split)\n",
      "\n",
      "Node number 6: 50 observations,    complexity param=0.01746026\n",
      "  mean=32.082, MSE=33.63108 \n",
      "  left son=12 (2 obs) right son=13 (48 obs)\n",
      "  Primary splits:\n",
      "      nox   < 0.659    to the right, improve=0.4006120, (0 missing)\n",
      "      crim  < 7.393425 to the right, improve=0.3466859, (0 missing)\n",
      "      lstat < 15.765   to the right, improve=0.3466859, (0 missing)\n",
      "      dis   < 1.30945  to the right, improve=0.1948239, (0 missing)\n",
      "      rad   < 5.5      to the right, improve=0.1307649, (0 missing)\n",
      "  Surrogate splits:\n",
      "      crim  < 7.393425 to the right, agree=0.98, adj=0.5, (0 split)\n",
      "      lstat < 15.765   to the right, agree=0.98, adj=0.5, (0 split)\n",
      "\n",
      "Node number 7: 30 observations,    complexity param=0.01442747\n",
      "  mean=45.09667, MSE=36.62832 \n",
      "  left son=14 (1 obs) right son=15 (29 obs)\n",
      "  Primary splits:\n",
      "      nox  < 0.6825   to the right, improve=0.5065661, (0 missing)\n",
      "      rad  < 16       to the right, improve=0.5065661, (0 missing)\n",
      "      b    < 361.925  to the left,  improve=0.5065661, (0 missing)\n",
      "      crim < 2.742235 to the right, improve=0.5065661, (0 missing)\n",
      "      rm   < 8.7525   to the right, improve=0.5065661, (0 missing)\n",
      "\n",
      "Node number 8: 97 observations,    complexity param=0.01471751\n",
      "  mean=12.69691, MSE=12.37844 \n",
      "  left son=16 (52 obs) right son=17 (45 obs)\n",
      "  Primary splits:\n",
      "      lstat < 19.645   to the right, improve=0.4729123, (0 missing)\n",
      "      crim  < 11.36915 to the right, improve=0.4108315, (0 missing)\n",
      "      dis   < 2.0037   to the left,  improve=0.1941842, (0 missing)\n",
      "      tax   < 551.5    to the right, improve=0.1671503, (0 missing)\n",
      "      nox   < 0.7065   to the left,  improve=0.1402618, (0 missing)\n",
      "  Surrogate splits:\n",
      "      dis  < 1.66865  to the left,  agree=0.784, adj=0.533, (0 split)\n",
      "      crim < 9.08499  to the right, agree=0.732, adj=0.422, (0 split)\n",
      "      rm   < 5.6275   to the left,  agree=0.711, adj=0.378, (0 split)\n",
      "      nox  < 0.7065   to the left,  agree=0.680, adj=0.311, (0 split)\n",
      "      age  < 98.85    to the right, agree=0.649, adj=0.244, (0 split)\n",
      "\n",
      "Node number 9: 54 observations\n",
      "  mean=18.24259, MSE=10.588 \n",
      "\n",
      "Node number 10: 163 observations\n",
      "  mean=21.76933, MSE=9.089611 \n",
      "\n",
      "Node number 11: 40 observations,    complexity param=0.01255829\n",
      "  mean=28.265, MSE=23.48027 \n",
      "  left son=22 (39 obs) right son=23 (1 obs)\n",
      "  Primary splits:\n",
      "      nox  < 0.602    to the left,  improve=0.5158833, (0 missing)\n",
      "      dis  < 1.8728   to the right, improve=0.5158833, (0 missing)\n",
      "      crim < 3.14234  to the left,  improve=0.5158833, (0 missing)\n",
      "      age  < 96.2     to the left,  improve=0.5158833, (0 missing)\n",
      "      rad  < 16       to the left,  improve=0.5158833, (0 missing)\n",
      "\n",
      "Node number 12: 2 observations\n",
      "  mean=14.1, MSE=13.69 \n",
      "\n",
      "Node number 13: 48 observations\n",
      "  mean=32.83125, MSE=20.42757 \n",
      "\n",
      "Node number 14: 1 observations\n",
      "  mean=21.9, MSE=0 \n",
      "\n",
      "Node number 15: 29 observations\n",
      "  mean=45.89655, MSE=18.69688 \n",
      "\n",
      "Node number 16: 52 observations\n",
      "  mean=10.44615, MSE=7.648254 \n",
      "\n",
      "Node number 17: 45 observations\n",
      "  mean=15.29778, MSE=5.225995 \n",
      "\n",
      "Node number 22: 39 observations\n",
      "  mean=27.70769, MSE=11.65866 \n",
      "\n",
      "Node number 23: 1 observations\n",
      "  mean=50, MSE=0 \n",
      "\n"
     ]
    }
   ],
   "source": [
    "library(rpart)\n",
    "regressor = rpart(formula = medv ~ .,\n",
    "                 data=training_set,\n",
    "                 control = rpart.control(minsplit = 4))\n",
    "summary(regressor)"
   ]
  },
  {
   "cell_type": "markdown",
   "metadata": {},
   "source": [
    "## Decision Tree Classification"
   ]
  },
  {
   "cell_type": "markdown",
   "metadata": {},
   "source": [
    "### Dataset Description\n",
    "**Wisconsin Breast Cancer Database** <br>\n",
    "- Description: Predict whether a cancer is malignant or benign from biopsy details.<br>\n",
    "- Type: Binary Classification<br>\n",
    "- Dimensions: 699 instances, 11 attributes<br>\n",
    "- Inputs: Integer (Nominal)<br>\n",
    "- Output: Categorical, 2 class labels<br>\n",
    "- UCI Machine Learning Repository<br>"
   ]
  },
  {
   "cell_type": "markdown",
   "metadata": {},
   "source": [
    "### Reading the dataset"
   ]
  },
  {
   "cell_type": "code",
   "execution_count": 7,
   "metadata": {},
   "outputs": [
    {
     "data": {
      "text/html": [
       "<ol class=list-inline>\n",
       "\t<li>699</li>\n",
       "\t<li>11</li>\n",
       "</ol>\n"
      ],
      "text/latex": [
       "\\begin{enumerate*}\n",
       "\\item 699\n",
       "\\item 11\n",
       "\\end{enumerate*}\n"
      ],
      "text/markdown": [
       "1. 699\n",
       "2. 11\n",
       "\n",
       "\n"
      ],
      "text/plain": [
       "[1] 699  11"
      ]
     },
     "metadata": {},
     "output_type": "display_data"
    },
    {
     "data": {
      "text/html": [
       "<ol class=list-inline>\n",
       "\t<li>'benign'</li>\n",
       "\t<li>'malignant'</li>\n",
       "</ol>\n"
      ],
      "text/latex": [
       "\\begin{enumerate*}\n",
       "\\item 'benign'\n",
       "\\item 'malignant'\n",
       "\\end{enumerate*}\n"
      ],
      "text/markdown": [
       "1. 'benign'\n",
       "2. 'malignant'\n",
       "\n",
       "\n"
      ],
      "text/plain": [
       "[1] \"benign\"    \"malignant\""
      ]
     },
     "metadata": {},
     "output_type": "display_data"
    },
    {
     "data": {
      "text/html": [
       "<table>\n",
       "<thead><tr><th scope=col>Id</th><th scope=col>Cl.thickness</th><th scope=col>Cell.size</th><th scope=col>Cell.shape</th><th scope=col>Marg.adhesion</th><th scope=col>Epith.c.size</th><th scope=col>Bare.nuclei</th><th scope=col>Bl.cromatin</th><th scope=col>Normal.nucleoli</th><th scope=col>Mitoses</th><th scope=col>Class</th></tr></thead>\n",
       "<tbody>\n",
       "\t<tr><td>1000025  </td><td>5        </td><td>1        </td><td>1        </td><td>1        </td><td>2        </td><td>1        </td><td>3        </td><td>1        </td><td>1        </td><td>benign   </td></tr>\n",
       "\t<tr><td>1002945  </td><td>5        </td><td>4        </td><td>4        </td><td>5        </td><td>7        </td><td>10       </td><td>3        </td><td>2        </td><td>1        </td><td>benign   </td></tr>\n",
       "\t<tr><td>1015425  </td><td>3        </td><td>1        </td><td>1        </td><td>1        </td><td>2        </td><td>2        </td><td>3        </td><td>1        </td><td>1        </td><td>benign   </td></tr>\n",
       "\t<tr><td>1016277  </td><td>6        </td><td>8        </td><td>8        </td><td>1        </td><td>3        </td><td>4        </td><td>3        </td><td>7        </td><td>1        </td><td>benign   </td></tr>\n",
       "\t<tr><td>1017023  </td><td>4        </td><td>1        </td><td>1        </td><td>3        </td><td>2        </td><td>1        </td><td>3        </td><td>1        </td><td>1        </td><td>benign   </td></tr>\n",
       "\t<tr><td>1017122  </td><td>8        </td><td>10       </td><td>10       </td><td>8        </td><td>7        </td><td>10       </td><td>9        </td><td>7        </td><td>1        </td><td>malignant</td></tr>\n",
       "</tbody>\n",
       "</table>\n"
      ],
      "text/latex": [
       "\\begin{tabular}{r|lllllllllll}\n",
       " Id & Cl.thickness & Cell.size & Cell.shape & Marg.adhesion & Epith.c.size & Bare.nuclei & Bl.cromatin & Normal.nucleoli & Mitoses & Class\\\\\n",
       "\\hline\n",
       "\t 1000025   & 5         & 1         & 1         & 1         & 2         & 1         & 3         & 1         & 1         & benign   \\\\\n",
       "\t 1002945   & 5         & 4         & 4         & 5         & 7         & 10        & 3         & 2         & 1         & benign   \\\\\n",
       "\t 1015425   & 3         & 1         & 1         & 1         & 2         & 2         & 3         & 1         & 1         & benign   \\\\\n",
       "\t 1016277   & 6         & 8         & 8         & 1         & 3         & 4         & 3         & 7         & 1         & benign   \\\\\n",
       "\t 1017023   & 4         & 1         & 1         & 3         & 2         & 1         & 3         & 1         & 1         & benign   \\\\\n",
       "\t 1017122   & 8         & 10        & 10        & 8         & 7         & 10        & 9         & 7         & 1         & malignant\\\\\n",
       "\\end{tabular}\n"
      ],
      "text/markdown": [
       "\n",
       "Id | Cl.thickness | Cell.size | Cell.shape | Marg.adhesion | Epith.c.size | Bare.nuclei | Bl.cromatin | Normal.nucleoli | Mitoses | Class | \n",
       "|---|---|---|---|---|---|\n",
       "| 1000025   | 5         | 1         | 1         | 1         | 2         | 1         | 3         | 1         | 1         | benign    | \n",
       "| 1002945   | 5         | 4         | 4         | 5         | 7         | 10        | 3         | 2         | 1         | benign    | \n",
       "| 1015425   | 3         | 1         | 1         | 1         | 2         | 2         | 3         | 1         | 1         | benign    | \n",
       "| 1016277   | 6         | 8         | 8         | 1         | 3         | 4         | 3         | 7         | 1         | benign    | \n",
       "| 1017023   | 4         | 1         | 1         | 3         | 2         | 1         | 3         | 1         | 1         | benign    | \n",
       "| 1017122   | 8         | 10        | 10        | 8         | 7         | 10        | 9         | 7         | 1         | malignant | \n",
       "\n",
       "\n"
      ],
      "text/plain": [
       "  Id      Cl.thickness Cell.size Cell.shape Marg.adhesion Epith.c.size\n",
       "1 1000025 5            1         1          1             2           \n",
       "2 1002945 5            4         4          5             7           \n",
       "3 1015425 3            1         1          1             2           \n",
       "4 1016277 6            8         8          1             3           \n",
       "5 1017023 4            1         1          3             2           \n",
       "6 1017122 8            10        10         8             7           \n",
       "  Bare.nuclei Bl.cromatin Normal.nucleoli Mitoses Class    \n",
       "1 1           3           1               1       benign   \n",
       "2 10          3           2               1       benign   \n",
       "3 2           3           1               1       benign   \n",
       "4 4           3           7               1       benign   \n",
       "5 1           3           1               1       benign   \n",
       "6 10          9           7               1       malignant"
      ]
     },
     "metadata": {},
     "output_type": "display_data"
    }
   ],
   "source": [
    "# Wisconsin Breast Cancer Database\n",
    "data(BreastCancer)\n",
    "dim(BreastCancer)\n",
    "levels(BreastCancer$Class)\n",
    "head(BreastCancer)\n",
    "\n",
    "dataset = as.data.frame(BreastCancer)\n",
    "dataset = dataset[,2:11]"
   ]
  },
  {
   "cell_type": "markdown",
   "metadata": {},
   "source": [
    "### Encoding the variable"
   ]
  },
  {
   "cell_type": "code",
   "execution_count": 8,
   "metadata": {},
   "outputs": [
    {
     "data": {
      "text/html": [
       "<table>\n",
       "<thead><tr><th scope=col>Cl.thickness</th><th scope=col>Cell.size</th><th scope=col>Cell.shape</th><th scope=col>Marg.adhesion</th><th scope=col>Epith.c.size</th><th scope=col>Bare.nuclei</th><th scope=col>Bl.cromatin</th><th scope=col>Normal.nucleoli</th><th scope=col>Mitoses</th><th scope=col>Class</th></tr></thead>\n",
       "<tbody>\n",
       "\t<tr><td>5 </td><td>1 </td><td>1 </td><td>1 </td><td>2 </td><td>1 </td><td>3 </td><td>1 </td><td>1 </td><td>0 </td></tr>\n",
       "\t<tr><td>5 </td><td>4 </td><td>4 </td><td>5 </td><td>7 </td><td>10</td><td>3 </td><td>2 </td><td>1 </td><td>0 </td></tr>\n",
       "\t<tr><td>3 </td><td>1 </td><td>1 </td><td>1 </td><td>2 </td><td>2 </td><td>3 </td><td>1 </td><td>1 </td><td>0 </td></tr>\n",
       "\t<tr><td>6 </td><td>8 </td><td>8 </td><td>1 </td><td>3 </td><td>4 </td><td>3 </td><td>7 </td><td>1 </td><td>0 </td></tr>\n",
       "\t<tr><td>4 </td><td>1 </td><td>1 </td><td>3 </td><td>2 </td><td>1 </td><td>3 </td><td>1 </td><td>1 </td><td>0 </td></tr>\n",
       "\t<tr><td>8 </td><td>10</td><td>10</td><td>8 </td><td>7 </td><td>10</td><td>9 </td><td>7 </td><td>1 </td><td>1 </td></tr>\n",
       "</tbody>\n",
       "</table>\n"
      ],
      "text/latex": [
       "\\begin{tabular}{r|llllllllll}\n",
       " Cl.thickness & Cell.size & Cell.shape & Marg.adhesion & Epith.c.size & Bare.nuclei & Bl.cromatin & Normal.nucleoli & Mitoses & Class\\\\\n",
       "\\hline\n",
       "\t 5  & 1  & 1  & 1  & 2  & 1  & 3  & 1  & 1  & 0 \\\\\n",
       "\t 5  & 4  & 4  & 5  & 7  & 10 & 3  & 2  & 1  & 0 \\\\\n",
       "\t 3  & 1  & 1  & 1  & 2  & 2  & 3  & 1  & 1  & 0 \\\\\n",
       "\t 6  & 8  & 8  & 1  & 3  & 4  & 3  & 7  & 1  & 0 \\\\\n",
       "\t 4  & 1  & 1  & 3  & 2  & 1  & 3  & 1  & 1  & 0 \\\\\n",
       "\t 8  & 10 & 10 & 8  & 7  & 10 & 9  & 7  & 1  & 1 \\\\\n",
       "\\end{tabular}\n"
      ],
      "text/markdown": [
       "\n",
       "Cl.thickness | Cell.size | Cell.shape | Marg.adhesion | Epith.c.size | Bare.nuclei | Bl.cromatin | Normal.nucleoli | Mitoses | Class | \n",
       "|---|---|---|---|---|---|\n",
       "| 5  | 1  | 1  | 1  | 2  | 1  | 3  | 1  | 1  | 0  | \n",
       "| 5  | 4  | 4  | 5  | 7  | 10 | 3  | 2  | 1  | 0  | \n",
       "| 3  | 1  | 1  | 1  | 2  | 2  | 3  | 1  | 1  | 0  | \n",
       "| 6  | 8  | 8  | 1  | 3  | 4  | 3  | 7  | 1  | 0  | \n",
       "| 4  | 1  | 1  | 3  | 2  | 1  | 3  | 1  | 1  | 0  | \n",
       "| 8  | 10 | 10 | 8  | 7  | 10 | 9  | 7  | 1  | 1  | \n",
       "\n",
       "\n"
      ],
      "text/plain": [
       "  Cl.thickness Cell.size Cell.shape Marg.adhesion Epith.c.size Bare.nuclei\n",
       "1 5            1         1          1             2            1          \n",
       "2 5            4         4          5             7            10         \n",
       "3 3            1         1          1             2            2          \n",
       "4 6            8         8          1             3            4          \n",
       "5 4            1         1          3             2            1          \n",
       "6 8            10        10         8             7            10         \n",
       "  Bl.cromatin Normal.nucleoli Mitoses Class\n",
       "1 3           1               1       0    \n",
       "2 3           2               1       0    \n",
       "3 3           1               1       0    \n",
       "4 3           7               1       0    \n",
       "5 3           1               1       0    \n",
       "6 9           7               1       1    "
      ]
     },
     "metadata": {},
     "output_type": "display_data"
    }
   ],
   "source": [
    "dataset$Class = factor(dataset$Class,\n",
    "                        level = c('benign','malignant'),\n",
    "                        labels = c(0,1))\n",
    "head(dataset)"
   ]
  },
  {
   "cell_type": "code",
   "execution_count": 9,
   "metadata": {},
   "outputs": [],
   "source": [
    "library(caTools)\n",
    "set.seed(123)\n",
    "split = sample.split(dataset$Class, SplitRatio = 0.75)\n",
    "training_set = subset(dataset, split == TRUE)\n",
    "test_set = subset(dataset, split == FALSE)"
   ]
  },
  {
   "cell_type": "code",
   "execution_count": 10,
   "metadata": {},
   "outputs": [],
   "source": [
    "library(rpart)\n",
    "classifier = rpart(formula = Class ~ .,\n",
    "                   data = training_set)\n",
    "y_pred = predict(classifier, newdata = test_set[-10], type = 'class')"
   ]
  },
  {
   "cell_type": "markdown",
   "metadata": {},
   "source": [
    "### Creating the confusion matrix"
   ]
  },
  {
   "cell_type": "code",
   "execution_count": 1,
   "metadata": {},
   "outputs": [
    {
     "ename": "ERROR",
     "evalue": "Error in parse(text = x, srcfile = src): <text>:2:27: unexpected input\n1: library(caret)\n2: prp(classifier$finalModel,<c2>\n                             ^\n",
     "output_type": "error",
     "traceback": [
      "Error in parse(text = x, srcfile = src): <text>:2:27: unexpected input\n1: library(caret)\n2: prp(classifier$finalModel,<c2>\n                             ^\nTraceback:\n"
     ]
    }
   ],
   "source": [
    "library(caret)\n",
    "prp(classifier$finalModel, box.palette = \"Blue\", tweak= 1.2)"
   ]
  },
  {
   "cell_type": "code",
   "execution_count": 11,
   "metadata": {},
   "outputs": [
    {
     "data": {
      "text/plain": [
       "   y_pred\n",
       "      0   1\n",
       "  0 111   3\n",
       "  1   5  55"
      ]
     },
     "metadata": {},
     "output_type": "display_data"
    }
   ],
   "source": [
    "cm = table(test_set[, 10], y_pred)\n",
    "cm"
   ]
  },
  {
   "cell_type": "markdown",
   "metadata": {},
   "source": [
    "### Accuracy, Error Rate , Precision and Recall"
   ]
  },
  {
   "cell_type": "code",
   "execution_count": 12,
   "metadata": {},
   "outputs": [
    {
     "data": {
      "text/html": [
       "0.954022988505747"
      ],
      "text/latex": [
       "0.954022988505747"
      ],
      "text/markdown": [
       "0.954022988505747"
      ],
      "text/plain": [
       "[1] 0.954023"
      ]
     },
     "metadata": {},
     "output_type": "display_data"
    }
   ],
   "source": [
    "accuracy <- table(y_pred, test_set[,10])\n",
    "sum(diag(accuracy))/sum(accuracy)"
   ]
  },
  {
   "cell_type": "code",
   "execution_count": 13,
   "metadata": {},
   "outputs": [],
   "source": [
    "true_positives = 55\n",
    "false_positive = 3\n",
    "false_negatives = 5\n",
    "true_negatives = 111"
   ]
  },
  {
   "cell_type": "code",
   "execution_count": 14,
   "metadata": {},
   "outputs": [
    {
     "data": {
      "text/html": [
       "0.948275862068966"
      ],
      "text/latex": [
       "0.948275862068966"
      ],
      "text/markdown": [
       "0.948275862068966"
      ],
      "text/plain": [
       "[1] 0.9482759"
      ]
     },
     "metadata": {},
     "output_type": "display_data"
    }
   ],
   "source": [
    "Precision  = (true_positives)/(true_positives+false_positive)\n",
    "Precision"
   ]
  },
  {
   "cell_type": "code",
   "execution_count": 15,
   "metadata": {},
   "outputs": [
    {
     "data": {
      "text/html": [
       "0.916666666666667"
      ],
      "text/latex": [
       "0.916666666666667"
      ],
      "text/markdown": [
       "0.916666666666667"
      ],
      "text/plain": [
       "[1] 0.9166667"
      ]
     },
     "metadata": {},
     "output_type": "display_data"
    }
   ],
   "source": [
    "Recall = (true_positives)/(true_positives+false_negatives)\n",
    "Recall"
   ]
  },
  {
   "cell_type": "code",
   "execution_count": 16,
   "metadata": {},
   "outputs": [
    {
     "data": {
      "text/html": [
       "0.0459770114942529"
      ],
      "text/latex": [
       "0.0459770114942529"
      ],
      "text/markdown": [
       "0.0459770114942529"
      ],
      "text/plain": [
       "[1] 0.04597701"
      ]
     },
     "metadata": {},
     "output_type": "display_data"
    }
   ],
   "source": [
    "ErrorRate = (false_positive + false_negatives)/length(test_set[,10])\n",
    "ErrorRate"
   ]
  },
  {
   "cell_type": "code",
   "execution_count": null,
   "metadata": {},
   "outputs": [],
   "source": []
  }
 ],
 "metadata": {
  "kernelspec": {
   "display_name": "R 3.4",
   "language": "R",
   "name": "ir34"
  },
  "language_info": {
   "codemirror_mode": "r",
   "file_extension": ".r",
   "mimetype": "text/x-r-source",
   "name": "R",
   "pygments_lexer": "r",
   "version": "3.4.3"
  }
 },
 "nbformat": 4,
 "nbformat_minor": 2
}
