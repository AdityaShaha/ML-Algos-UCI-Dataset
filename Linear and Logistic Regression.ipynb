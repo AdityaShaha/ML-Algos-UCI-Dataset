{
 "cells": [
  {
   "cell_type": "markdown",
   "metadata": {},
   "source": [
    "# Implementation of Linear and Logistic Regression in R on UCI dataset"
   ]
  },
  {
   "cell_type": "markdown",
   "metadata": {},
   "source": [
    "## Linear Regression using UCI Dataset"
   ]
  },
  {
   "cell_type": "markdown",
   "metadata": {},
   "source": [
    "### Dataset Description\n",
    "**Boston Housing Data**\n",
    "- Description: Predict the house price in Boston from house details<br/>\n",
    "- Type: Regression<br/>\n",
    "- Dimensions: 506 instances, 14 attributes<br/>\n",
    "- Inputs: Numeric<br/>\n",
    "- Output: Numeric<br/>\n",
    "- UCI Machine Learning Repository<br/>"
   ]
  },
  {
   "cell_type": "markdown",
   "metadata": {},
   "source": [
    "### Loading the dataset"
   ]
  },
  {
   "cell_type": "code",
   "execution_count": 1,
   "metadata": {},
   "outputs": [
    {
     "data": {
      "text/html": [
       "<ol class=list-inline>\n",
       "\t<li>506</li>\n",
       "\t<li>14</li>\n",
       "</ol>\n"
      ],
      "text/latex": [
       "\\begin{enumerate*}\n",
       "\\item 506\n",
       "\\item 14\n",
       "\\end{enumerate*}\n"
      ],
      "text/markdown": [
       "1. 506\n",
       "2. 14\n",
       "\n",
       "\n"
      ],
      "text/plain": [
       "[1] 506  14"
      ]
     },
     "metadata": {},
     "output_type": "display_data"
    },
    {
     "data": {
      "text/html": [
       "<table>\n",
       "<thead><tr><th scope=col>crim</th><th scope=col>zn</th><th scope=col>indus</th><th scope=col>chas</th><th scope=col>nox</th><th scope=col>rm</th><th scope=col>age</th><th scope=col>dis</th><th scope=col>rad</th><th scope=col>tax</th><th scope=col>ptratio</th><th scope=col>b</th><th scope=col>lstat</th><th scope=col>medv</th></tr></thead>\n",
       "<tbody>\n",
       "\t<tr><td>0.00632</td><td>18     </td><td>2.31   </td><td>0      </td><td>0.538  </td><td>6.575  </td><td>65.2   </td><td>4.0900 </td><td>1      </td><td>296    </td><td>15.3   </td><td>396.90 </td><td>4.98   </td><td>24.0   </td></tr>\n",
       "\t<tr><td>0.02731</td><td> 0     </td><td>7.07   </td><td>0      </td><td>0.469  </td><td>6.421  </td><td>78.9   </td><td>4.9671 </td><td>2      </td><td>242    </td><td>17.8   </td><td>396.90 </td><td>9.14   </td><td>21.6   </td></tr>\n",
       "\t<tr><td>0.02729</td><td> 0     </td><td>7.07   </td><td>0      </td><td>0.469  </td><td>7.185  </td><td>61.1   </td><td>4.9671 </td><td>2      </td><td>242    </td><td>17.8   </td><td>392.83 </td><td>4.03   </td><td>34.7   </td></tr>\n",
       "\t<tr><td>0.03237</td><td> 0     </td><td>2.18   </td><td>0      </td><td>0.458  </td><td>6.998  </td><td>45.8   </td><td>6.0622 </td><td>3      </td><td>222    </td><td>18.7   </td><td>394.63 </td><td>2.94   </td><td>33.4   </td></tr>\n",
       "\t<tr><td>0.06905</td><td> 0     </td><td>2.18   </td><td>0      </td><td>0.458  </td><td>7.147  </td><td>54.2   </td><td>6.0622 </td><td>3      </td><td>222    </td><td>18.7   </td><td>396.90 </td><td>5.33   </td><td>36.2   </td></tr>\n",
       "\t<tr><td>0.02985</td><td> 0     </td><td>2.18   </td><td>0      </td><td>0.458  </td><td>6.430  </td><td>58.7   </td><td>6.0622 </td><td>3      </td><td>222    </td><td>18.7   </td><td>394.12 </td><td>5.21   </td><td>28.7   </td></tr>\n",
       "</tbody>\n",
       "</table>\n"
      ],
      "text/latex": [
       "\\begin{tabular}{r|llllllllllllll}\n",
       " crim & zn & indus & chas & nox & rm & age & dis & rad & tax & ptratio & b & lstat & medv\\\\\n",
       "\\hline\n",
       "\t 0.00632 & 18      & 2.31    & 0       & 0.538   & 6.575   & 65.2    & 4.0900  & 1       & 296     & 15.3    & 396.90  & 4.98    & 24.0   \\\\\n",
       "\t 0.02731 &  0      & 7.07    & 0       & 0.469   & 6.421   & 78.9    & 4.9671  & 2       & 242     & 17.8    & 396.90  & 9.14    & 21.6   \\\\\n",
       "\t 0.02729 &  0      & 7.07    & 0       & 0.469   & 7.185   & 61.1    & 4.9671  & 2       & 242     & 17.8    & 392.83  & 4.03    & 34.7   \\\\\n",
       "\t 0.03237 &  0      & 2.18    & 0       & 0.458   & 6.998   & 45.8    & 6.0622  & 3       & 222     & 18.7    & 394.63  & 2.94    & 33.4   \\\\\n",
       "\t 0.06905 &  0      & 2.18    & 0       & 0.458   & 7.147   & 54.2    & 6.0622  & 3       & 222     & 18.7    & 396.90  & 5.33    & 36.2   \\\\\n",
       "\t 0.02985 &  0      & 2.18    & 0       & 0.458   & 6.430   & 58.7    & 6.0622  & 3       & 222     & 18.7    & 394.12  & 5.21    & 28.7   \\\\\n",
       "\\end{tabular}\n"
      ],
      "text/markdown": [
       "\n",
       "crim | zn | indus | chas | nox | rm | age | dis | rad | tax | ptratio | b | lstat | medv | \n",
       "|---|---|---|---|---|---|\n",
       "| 0.00632 | 18      | 2.31    | 0       | 0.538   | 6.575   | 65.2    | 4.0900  | 1       | 296     | 15.3    | 396.90  | 4.98    | 24.0    | \n",
       "| 0.02731 |  0      | 7.07    | 0       | 0.469   | 6.421   | 78.9    | 4.9671  | 2       | 242     | 17.8    | 396.90  | 9.14    | 21.6    | \n",
       "| 0.02729 |  0      | 7.07    | 0       | 0.469   | 7.185   | 61.1    | 4.9671  | 2       | 242     | 17.8    | 392.83  | 4.03    | 34.7    | \n",
       "| 0.03237 |  0      | 2.18    | 0       | 0.458   | 6.998   | 45.8    | 6.0622  | 3       | 222     | 18.7    | 394.63  | 2.94    | 33.4    | \n",
       "| 0.06905 |  0      | 2.18    | 0       | 0.458   | 7.147   | 54.2    | 6.0622  | 3       | 222     | 18.7    | 396.90  | 5.33    | 36.2    | \n",
       "| 0.02985 |  0      | 2.18    | 0       | 0.458   | 6.430   | 58.7    | 6.0622  | 3       | 222     | 18.7    | 394.12  | 5.21    | 28.7    | \n",
       "\n",
       "\n"
      ],
      "text/plain": [
       "  crim    zn indus chas nox   rm    age  dis    rad tax ptratio b      lstat\n",
       "1 0.00632 18 2.31  0    0.538 6.575 65.2 4.0900 1   296 15.3    396.90 4.98 \n",
       "2 0.02731  0 7.07  0    0.469 6.421 78.9 4.9671 2   242 17.8    396.90 9.14 \n",
       "3 0.02729  0 7.07  0    0.469 7.185 61.1 4.9671 2   242 17.8    392.83 4.03 \n",
       "4 0.03237  0 2.18  0    0.458 6.998 45.8 6.0622 3   222 18.7    394.63 2.94 \n",
       "5 0.06905  0 2.18  0    0.458 7.147 54.2 6.0622 3   222 18.7    396.90 5.33 \n",
       "6 0.02985  0 2.18  0    0.458 6.430 58.7 6.0622 3   222 18.7    394.12 5.21 \n",
       "  medv\n",
       "1 24.0\n",
       "2 21.6\n",
       "3 34.7\n",
       "4 33.4\n",
       "5 36.2\n",
       "6 28.7"
      ]
     },
     "metadata": {},
     "output_type": "display_data"
    }
   ],
   "source": [
    "library(mlbench)\n",
    "data(BostonHousing)\n",
    "dim(BostonHousing)\n",
    "dataset =as.data.frame(BostonHousing)\n",
    "head(dataset)"
   ]
  },
  {
   "cell_type": "markdown",
   "metadata": {},
   "source": [
    "### Splitting the data in training and testing"
   ]
  },
  {
   "cell_type": "code",
   "execution_count": 2,
   "metadata": {},
   "outputs": [
    {
     "name": "stdout",
     "output_type": "stream",
     "text": [
      "[1] \"Training Set Dimensions :\"\n"
     ]
    },
    {
     "data": {
      "text/html": [
       "<ol class=list-inline>\n",
       "\t<li>434</li>\n",
       "\t<li>14</li>\n",
       "</ol>\n"
      ],
      "text/latex": [
       "\\begin{enumerate*}\n",
       "\\item 434\n",
       "\\item 14\n",
       "\\end{enumerate*}\n"
      ],
      "text/markdown": [
       "1. 434\n",
       "2. 14\n",
       "\n",
       "\n"
      ],
      "text/plain": [
       "[1] 434  14"
      ]
     },
     "metadata": {},
     "output_type": "display_data"
    },
    {
     "name": "stdout",
     "output_type": "stream",
     "text": [
      "[1] \"Testing Set Dimensions :\"\n"
     ]
    },
    {
     "data": {
      "text/html": [
       "<ol class=list-inline>\n",
       "\t<li>72</li>\n",
       "\t<li>14</li>\n",
       "</ol>\n"
      ],
      "text/latex": [
       "\\begin{enumerate*}\n",
       "\\item 72\n",
       "\\item 14\n",
       "\\end{enumerate*}\n"
      ],
      "text/markdown": [
       "1. 72\n",
       "2. 14\n",
       "\n",
       "\n"
      ],
      "text/plain": [
       "[1] 72 14"
      ]
     },
     "metadata": {},
     "output_type": "display_data"
    }
   ],
   "source": [
    "library(caTools)\n",
    "set.seed(123)\n",
    "split = sample.split(dataset$medv,SplitRatio= 0.8)\n",
    "training_set = subset(dataset, split==TRUE)\n",
    "test_set = subset(dataset, split==FALSE)\n",
    "print(\"Training Set Dimensions :\")\n",
    "dim(training_set)\n",
    "print(\"Testing Set Dimensions :\")\n",
    "dim(test_set)"
   ]
  },
  {
   "cell_type": "markdown",
   "metadata": {},
   "source": [
    "## Simple Linear Regression"
   ]
  },
  {
   "cell_type": "markdown",
   "metadata": {},
   "source": [
    "### Investigating the relationship between lstat (% lower status of the population) and medv(Median value of owner-occupied homes in `$1000's`)"
   ]
  },
  {
   "cell_type": "code",
   "execution_count": 3,
   "metadata": {},
   "outputs": [
    {
     "data": {
      "text/plain": [
       "\n",
       "Call:\n",
       "lm(formula = medv ~ lstat, data = training_set)\n",
       "\n",
       "Residuals:\n",
       "    Min      1Q  Median      3Q     Max \n",
       "-15.441  -4.081  -1.315   2.202  22.228 \n",
       "\n",
       "Coefficients:\n",
       "            Estimate Std. Error t value Pr(>|t|)    \n",
       "(Intercept) 35.04593    0.59433   58.97   <2e-16 ***\n",
       "lstat       -0.97773    0.04077  -23.98   <2e-16 ***\n",
       "---\n",
       "Signif. codes:  0 ‘***’ 0.001 ‘**’ 0.01 ‘*’ 0.05 ‘.’ 0.1 ‘ ’ 1\n",
       "\n",
       "Residual standard error: 6.19 on 432 degrees of freedom\n",
       "Multiple R-squared:  0.571,\tAdjusted R-squared:   0.57 \n",
       "F-statistic: 575.1 on 1 and 432 DF,  p-value: < 2.2e-16\n"
      ]
     },
     "metadata": {},
     "output_type": "display_data"
    }
   ],
   "source": [
    "regressor = lm(formula = medv ~ lstat,\n",
    "              data = training_set) # fit a simple linear regression model\n",
    "summary(regressor) "
   ]
  },
  {
   "cell_type": "markdown",
   "metadata": {},
   "source": [
    "### Prediction"
   ]
  },
  {
   "cell_type": "code",
   "execution_count": 4,
   "metadata": {},
   "outputs": [
    {
     "data": {
      "text/html": [
       "<dl class=dl-horizontal>\n",
       "\t<dt>1</dt>\n",
       "\t\t<dd>30.176846294128</dd>\n",
       "\t<dt>2</dt>\n",
       "\t\t<dd>26.1094994765839</dd>\n",
       "\t<dt>3</dt>\n",
       "\t\t<dd>31.1056875144806</dd>\n",
       "\t<dt>4</dt>\n",
       "\t\t<dd>32.1714105988852</dd>\n",
       "\t<dt>5</dt>\n",
       "\t\t<dd>29.8346416339981</dd>\n",
       "\t<dt>6</dt>\n",
       "\t\t<dd>29.9519689460426</dd>\n",
       "</dl>\n"
      ],
      "text/latex": [
       "\\begin{description*}\n",
       "\\item[1] 30.176846294128\n",
       "\\item[2] 26.1094994765839\n",
       "\\item[3] 31.1056875144806\n",
       "\\item[4] 32.1714105988852\n",
       "\\item[5] 29.8346416339981\n",
       "\\item[6] 29.9519689460426\n",
       "\\end{description*}\n"
      ],
      "text/markdown": [
       "1\n",
       ":   30.1768462941282\n",
       ":   26.10949947658393\n",
       ":   31.10568751448064\n",
       ":   32.17141059888525\n",
       ":   29.83464163399816\n",
       ":   29.9519689460426\n",
       "\n"
      ],
      "text/plain": [
       "       1        2        3        4        5        6 \n",
       "30.17685 26.10950 31.10569 32.17141 29.83464 29.95197 "
      ]
     },
     "metadata": {},
     "output_type": "display_data"
    }
   ],
   "source": [
    "predictions = predict(regressor,new_data=test_set)\n",
    "head(predictions)"
   ]
  },
  {
   "cell_type": "markdown",
   "metadata": {},
   "source": [
    "### Visualizing Results for Training Set"
   ]
  },
  {
   "cell_type": "code",
   "execution_count": 5,
   "metadata": {},
   "outputs": [
    {
     "data": {},
     "metadata": {},
     "output_type": "display_data"
    },
    {
     "data": {
      "image/png": "[encoded data removed]",
      "text/plain": [
       "plot without title"
      ]
     },
     "metadata": {},
     "output_type": "display_data"
    }
   ],
   "source": [
    "library(ggplot2)\n",
    "ggplot()+\n",
    "    geom_point(aes(x = training_set$lstat,y= training_set$medv),\n",
    "              color='red')+\n",
    "    geom_line(aes(x = training_set$lstat,y= predict(regressor,new_data=test_set)),\n",
    "             color='blue')+\n",
    "    ggtitle('Medv vs lstat(Training set)')+\n",
    "    xlab('lstat')+\n",
    "    ylab('Medv')"
   ]
  },
  {
   "cell_type": "markdown",
   "metadata": {},
   "source": [
    "### Visualizing Results for Test Set"
   ]
  },
  {
   "cell_type": "markdown",
   "metadata": {},
   "source": [
    "### Inferences\n",
    "- The statement `lstat       -0.97773    0.04077  -23.98   <2e-16 ***` shows that the `lstat` is highly significant.\n",
    "- The plot shows that `lstat` is negatively correlated with `medv`. This means that as the lower status of population in the neighbourhood decreases , the value of the houses value increases which is in agreement with our domain knowledge"
   ]
  },
  {
   "cell_type": "markdown",
   "metadata": {},
   "source": [
    "## Multiple Linear Regression"
   ]
  },
  {
   "cell_type": "code",
   "execution_count": 6,
   "metadata": {},
   "outputs": [
    {
     "data": {
      "text/plain": [
       "\n",
       "Call:\n",
       "lm(formula = medv ~ ., data = training_set)\n",
       "\n",
       "Residuals:\n",
       "     Min       1Q   Median       3Q      Max \n",
       "-15.7813  -2.6850  -0.5836   2.0282  19.2216 \n",
       "\n",
       "Coefficients:\n",
       "              Estimate Std. Error t value Pr(>|t|)    \n",
       "(Intercept)  32.805148   5.175949   6.338 6.01e-10 ***\n",
       "crim         -0.095612   0.030802  -3.104 0.002038 ** \n",
       "zn            0.038467   0.013650   2.818 0.005060 ** \n",
       "indus         0.036196   0.062300   0.581 0.561556    \n",
       "chas1         2.355246   0.844111   2.790 0.005507 ** \n",
       "nox         -18.995909   3.829262  -4.961 1.02e-06 ***\n",
       "rm            4.691653   0.410706  11.423  < 2e-16 ***\n",
       "age          -0.008848   0.012772  -0.693 0.488825    \n",
       "dis          -1.426783   0.199598  -7.148 3.92e-12 ***\n",
       "rad           0.249007   0.065979   3.774 0.000184 ***\n",
       "tax          -0.011830   0.003784  -3.126 0.001895 ** \n",
       "ptratio      -0.999811   0.131090  -7.627 1.62e-13 ***\n",
       "b             0.007110   0.002652   2.681 0.007621 ** \n",
       "lstat        -0.439822   0.050858  -8.648  < 2e-16 ***\n",
       "---\n",
       "Signif. codes:  0 ‘***’ 0.001 ‘**’ 0.01 ‘*’ 0.05 ‘.’ 0.1 ‘ ’ 1\n",
       "\n",
       "Residual standard error: 4.362 on 420 degrees of freedom\n",
       "Multiple R-squared:  0.7929,\tAdjusted R-squared:  0.7864 \n",
       "F-statistic: 123.7 on 13 and 420 DF,  p-value: < 2.2e-16\n"
      ]
     },
     "metadata": {},
     "output_type": "display_data"
    }
   ],
   "source": [
    "multipleregressor=lm(formula = medv ~ .,\n",
    "              data = training_set)\n",
    "# same as regressor = lm(formula = Profit ~ R.D.Spend + Administration + Marketing.Spend + State)\n",
    "summary(multipleregressor)"
   ]
  },
  {
   "cell_type": "markdown",
   "metadata": {},
   "source": [
    "### Summary\n",
    "- The lower the `p-value` more is the statistical significance\n",
    "- 3 Stars is highly statistically significant\n",
    "- i.e. The independent variable is going to have more impact on the dependent variable\n",
    "- Usual threshold .5\n",
    "- From the data it is significant that `crim` `nox` `rm` `dis` `rad` `pratio` and `lstat` are significant while other variables are less significant"
   ]
  },
  {
   "cell_type": "markdown",
   "metadata": {},
   "source": [
    "### R-squared Error for Simple Linear Regression"
   ]
  },
  {
   "cell_type": "code",
   "execution_count": 7,
   "metadata": {},
   "outputs": [
    {
     "data": {
      "text/html": [
       "0.571039872296254"
      ],
      "text/latex": [
       "0.571039872296254"
      ],
      "text/markdown": [
       "0.571039872296254"
      ],
      "text/plain": [
       "[1] 0.5710399"
      ]
     },
     "metadata": {},
     "output_type": "display_data"
    }
   ],
   "source": [
    "summary(regressor)$r.squared "
   ]
  },
  {
   "cell_type": "markdown",
   "metadata": {},
   "source": [
    "### R-squared Error for Multiple Linear Regression"
   ]
  },
  {
   "cell_type": "code",
   "execution_count": 8,
   "metadata": {},
   "outputs": [
    {
     "data": {
      "text/html": [
       "0.792850294271894"
      ],
      "text/latex": [
       "0.792850294271894"
      ],
      "text/markdown": [
       "0.792850294271894"
      ],
      "text/plain": [
       "[1] 0.7928503"
      ]
     },
     "metadata": {},
     "output_type": "display_data"
    }
   ],
   "source": [
    "summary(multipleregressor)$r.squared "
   ]
  },
  {
   "cell_type": "markdown",
   "metadata": {},
   "source": [
    "## Logistic Regression"
   ]
  },
  {
   "cell_type": "markdown",
   "metadata": {},
   "source": [
    "### Dataset Description\n",
    "**Wisconsin Breast Cancer Database** <br>\n",
    "- Description: Predict whether a cancer is malignant or benign from biopsy details.<br>\n",
    "- Type: Binary Classification<br>\n",
    "- Dimensions: 699 instances, 11 attributes<br>\n",
    "- Inputs: Integer (Nominal)<br>\n",
    "- Output: Categorical, 2 class labels<br>\n",
    "- UCI Machine Learning Repository<br>"
   ]
  },
  {
   "cell_type": "markdown",
   "metadata": {},
   "source": [
    "### Reading the dataset"
   ]
  },
  {
   "cell_type": "code",
   "execution_count": 9,
   "metadata": {},
   "outputs": [
    {
     "data": {
      "text/html": [
       "<ol class=list-inline>\n",
       "\t<li>699</li>\n",
       "\t<li>11</li>\n",
       "</ol>\n"
      ],
      "text/latex": [
       "\\begin{enumerate*}\n",
       "\\item 699\n",
       "\\item 11\n",
       "\\end{enumerate*}\n"
      ],
      "text/markdown": [
       "1. 699\n",
       "2. 11\n",
       "\n",
       "\n"
      ],
      "text/plain": [
       "[1] 699  11"
      ]
     },
     "metadata": {},
     "output_type": "display_data"
    },
    {
     "data": {
      "text/html": [
       "<ol class=list-inline>\n",
       "\t<li>'benign'</li>\n",
       "\t<li>'malignant'</li>\n",
       "</ol>\n"
      ],
      "text/latex": [
       "\\begin{enumerate*}\n",
       "\\item 'benign'\n",
       "\\item 'malignant'\n",
       "\\end{enumerate*}\n"
      ],
      "text/markdown": [
       "1. 'benign'\n",
       "2. 'malignant'\n",
       "\n",
       "\n"
      ],
      "text/plain": [
       "[1] \"benign\"    \"malignant\""
      ]
     },
     "metadata": {},
     "output_type": "display_data"
    },
    {
     "data": {
      "text/html": [
       "<table>\n",
       "<thead><tr><th scope=col>Id</th><th scope=col>Cl.thickness</th><th scope=col>Cell.size</th><th scope=col>Cell.shape</th><th scope=col>Marg.adhesion</th><th scope=col>Epith.c.size</th><th scope=col>Bare.nuclei</th><th scope=col>Bl.cromatin</th><th scope=col>Normal.nucleoli</th><th scope=col>Mitoses</th><th scope=col>Class</th></tr></thead>\n",
       "<tbody>\n",
       "\t<tr><td>1000025  </td><td>5        </td><td>1        </td><td>1        </td><td>1        </td><td>2        </td><td>1        </td><td>3        </td><td>1        </td><td>1        </td><td>benign   </td></tr>\n",
       "\t<tr><td>1002945  </td><td>5        </td><td>4        </td><td>4        </td><td>5        </td><td>7        </td><td>10       </td><td>3        </td><td>2        </td><td>1        </td><td>benign   </td></tr>\n",
       "\t<tr><td>1015425  </td><td>3        </td><td>1        </td><td>1        </td><td>1        </td><td>2        </td><td>2        </td><td>3        </td><td>1        </td><td>1        </td><td>benign   </td></tr>\n",
       "\t<tr><td>1016277  </td><td>6        </td><td>8        </td><td>8        </td><td>1        </td><td>3        </td><td>4        </td><td>3        </td><td>7        </td><td>1        </td><td>benign   </td></tr>\n",
       "\t<tr><td>1017023  </td><td>4        </td><td>1        </td><td>1        </td><td>3        </td><td>2        </td><td>1        </td><td>3        </td><td>1        </td><td>1        </td><td>benign   </td></tr>\n",
       "\t<tr><td>1017122  </td><td>8        </td><td>10       </td><td>10       </td><td>8        </td><td>7        </td><td>10       </td><td>9        </td><td>7        </td><td>1        </td><td>malignant</td></tr>\n",
       "</tbody>\n",
       "</table>\n"
      ],
      "text/latex": [
       "\\begin{tabular}{r|lllllllllll}\n",
       " Id & Cl.thickness & Cell.size & Cell.shape & Marg.adhesion & Epith.c.size & Bare.nuclei & Bl.cromatin & Normal.nucleoli & Mitoses & Class\\\\\n",
       "\\hline\n",
       "\t 1000025   & 5         & 1         & 1         & 1         & 2         & 1         & 3         & 1         & 1         & benign   \\\\\n",
       "\t 1002945   & 5         & 4         & 4         & 5         & 7         & 10        & 3         & 2         & 1         & benign   \\\\\n",
       "\t 1015425   & 3         & 1         & 1         & 1         & 2         & 2         & 3         & 1         & 1         & benign   \\\\\n",
       "\t 1016277   & 6         & 8         & 8         & 1         & 3         & 4         & 3         & 7         & 1         & benign   \\\\\n",
       "\t 1017023   & 4         & 1         & 1         & 3         & 2         & 1         & 3         & 1         & 1         & benign   \\\\\n",
       "\t 1017122   & 8         & 10        & 10        & 8         & 7         & 10        & 9         & 7         & 1         & malignant\\\\\n",
       "\\end{tabular}\n"
      ],
      "text/markdown": [
       "\n",
       "Id | Cl.thickness | Cell.size | Cell.shape | Marg.adhesion | Epith.c.size | Bare.nuclei | Bl.cromatin | Normal.nucleoli | Mitoses | Class | \n",
       "|---|---|---|---|---|---|\n",
       "| 1000025   | 5         | 1         | 1         | 1         | 2         | 1         | 3         | 1         | 1         | benign    | \n",
       "| 1002945   | 5         | 4         | 4         | 5         | 7         | 10        | 3         | 2         | 1         | benign    | \n",
       "| 1015425   | 3         | 1         | 1         | 1         | 2         | 2         | 3         | 1         | 1         | benign    | \n",
       "| 1016277   | 6         | 8         | 8         | 1         | 3         | 4         | 3         | 7         | 1         | benign    | \n",
       "| 1017023   | 4         | 1         | 1         | 3         | 2         | 1         | 3         | 1         | 1         | benign    | \n",
       "| 1017122   | 8         | 10        | 10        | 8         | 7         | 10        | 9         | 7         | 1         | malignant | \n",
       "\n",
       "\n"
      ],
      "text/plain": [
       "  Id      Cl.thickness Cell.size Cell.shape Marg.adhesion Epith.c.size\n",
       "1 1000025 5            1         1          1             2           \n",
       "2 1002945 5            4         4          5             7           \n",
       "3 1015425 3            1         1          1             2           \n",
       "4 1016277 6            8         8          1             3           \n",
       "5 1017023 4            1         1          3             2           \n",
       "6 1017122 8            10        10         8             7           \n",
       "  Bare.nuclei Bl.cromatin Normal.nucleoli Mitoses Class    \n",
       "1 1           3           1               1       benign   \n",
       "2 10          3           2               1       benign   \n",
       "3 2           3           1               1       benign   \n",
       "4 4           3           7               1       benign   \n",
       "5 1           3           1               1       benign   \n",
       "6 10          9           7               1       malignant"
      ]
     },
     "metadata": {},
     "output_type": "display_data"
    }
   ],
   "source": [
    "# Wisconsin Breast Cancer Database\n",
    "data(BreastCancer)\n",
    "dim(BreastCancer)\n",
    "levels(BreastCancer$Class)\n",
    "head(BreastCancer)\n",
    "\n",
    "dataset = as.data.frame(BreastCancer)\n",
    "dataset = dataset[,2:11]"
   ]
  },
  {
   "cell_type": "markdown",
   "metadata": {},
   "source": [
    "### Encoding the variable"
   ]
  },
  {
   "cell_type": "code",
   "execution_count": 10,
   "metadata": {},
   "outputs": [
    {
     "data": {
      "text/html": [
       "<table>\n",
       "<thead><tr><th scope=col>Cl.thickness</th><th scope=col>Cell.size</th><th scope=col>Cell.shape</th><th scope=col>Marg.adhesion</th><th scope=col>Epith.c.size</th><th scope=col>Bare.nuclei</th><th scope=col>Bl.cromatin</th><th scope=col>Normal.nucleoli</th><th scope=col>Mitoses</th><th scope=col>Class</th></tr></thead>\n",
       "<tbody>\n",
       "\t<tr><td>5 </td><td>1 </td><td>1 </td><td>1 </td><td>2 </td><td>1 </td><td>3 </td><td>1 </td><td>1 </td><td>0 </td></tr>\n",
       "\t<tr><td>5 </td><td>4 </td><td>4 </td><td>5 </td><td>7 </td><td>10</td><td>3 </td><td>2 </td><td>1 </td><td>0 </td></tr>\n",
       "\t<tr><td>3 </td><td>1 </td><td>1 </td><td>1 </td><td>2 </td><td>2 </td><td>3 </td><td>1 </td><td>1 </td><td>0 </td></tr>\n",
       "\t<tr><td>6 </td><td>8 </td><td>8 </td><td>1 </td><td>3 </td><td>4 </td><td>3 </td><td>7 </td><td>1 </td><td>0 </td></tr>\n",
       "\t<tr><td>4 </td><td>1 </td><td>1 </td><td>3 </td><td>2 </td><td>1 </td><td>3 </td><td>1 </td><td>1 </td><td>0 </td></tr>\n",
       "\t<tr><td>8 </td><td>10</td><td>10</td><td>8 </td><td>7 </td><td>10</td><td>9 </td><td>7 </td><td>1 </td><td>1 </td></tr>\n",
       "</tbody>\n",
       "</table>\n"
      ],
      "text/latex": [
       "\\begin{tabular}{r|llllllllll}\n",
       " Cl.thickness & Cell.size & Cell.shape & Marg.adhesion & Epith.c.size & Bare.nuclei & Bl.cromatin & Normal.nucleoli & Mitoses & Class\\\\\n",
       "\\hline\n",
       "\t 5  & 1  & 1  & 1  & 2  & 1  & 3  & 1  & 1  & 0 \\\\\n",
       "\t 5  & 4  & 4  & 5  & 7  & 10 & 3  & 2  & 1  & 0 \\\\\n",
       "\t 3  & 1  & 1  & 1  & 2  & 2  & 3  & 1  & 1  & 0 \\\\\n",
       "\t 6  & 8  & 8  & 1  & 3  & 4  & 3  & 7  & 1  & 0 \\\\\n",
       "\t 4  & 1  & 1  & 3  & 2  & 1  & 3  & 1  & 1  & 0 \\\\\n",
       "\t 8  & 10 & 10 & 8  & 7  & 10 & 9  & 7  & 1  & 1 \\\\\n",
       "\\end{tabular}\n"
      ],
      "text/markdown": [
       "\n",
       "Cl.thickness | Cell.size | Cell.shape | Marg.adhesion | Epith.c.size | Bare.nuclei | Bl.cromatin | Normal.nucleoli | Mitoses | Class | \n",
       "|---|---|---|---|---|---|\n",
       "| 5  | 1  | 1  | 1  | 2  | 1  | 3  | 1  | 1  | 0  | \n",
       "| 5  | 4  | 4  | 5  | 7  | 10 | 3  | 2  | 1  | 0  | \n",
       "| 3  | 1  | 1  | 1  | 2  | 2  | 3  | 1  | 1  | 0  | \n",
       "| 6  | 8  | 8  | 1  | 3  | 4  | 3  | 7  | 1  | 0  | \n",
       "| 4  | 1  | 1  | 3  | 2  | 1  | 3  | 1  | 1  | 0  | \n",
       "| 8  | 10 | 10 | 8  | 7  | 10 | 9  | 7  | 1  | 1  | \n",
       "\n",
       "\n"
      ],
      "text/plain": [
       "  Cl.thickness Cell.size Cell.shape Marg.adhesion Epith.c.size Bare.nuclei\n",
       "1 5            1         1          1             2            1          \n",
       "2 5            4         4          5             7            10         \n",
       "3 3            1         1          1             2            2          \n",
       "4 6            8         8          1             3            4          \n",
       "5 4            1         1          3             2            1          \n",
       "6 8            10        10         8             7            10         \n",
       "  Bl.cromatin Normal.nucleoli Mitoses Class\n",
       "1 3           1               1       0    \n",
       "2 3           2               1       0    \n",
       "3 3           1               1       0    \n",
       "4 3           7               1       0    \n",
       "5 3           1               1       0    \n",
       "6 9           7               1       1    "
      ]
     },
     "metadata": {},
     "output_type": "display_data"
    }
   ],
   "source": [
    "dataset$Class = factor(dataset$Class,\n",
    "                        level = c('benign','malignant'),\n",
    "                        labels = c(0,1))\n",
    "head(dataset)"
   ]
  },
  {
   "cell_type": "code",
   "execution_count": 11,
   "metadata": {},
   "outputs": [
    {
     "name": "stdout",
     "output_type": "stream",
     "text": [
      "[1] \"Training Set Dimensions :\"\n"
     ]
    },
    {
     "data": {
      "text/html": [
       "<ol class=list-inline>\n",
       "\t<li>525</li>\n",
       "\t<li>10</li>\n",
       "</ol>\n"
      ],
      "text/latex": [
       "\\begin{enumerate*}\n",
       "\\item 525\n",
       "\\item 10\n",
       "\\end{enumerate*}\n"
      ],
      "text/markdown": [
       "1. 525\n",
       "2. 10\n",
       "\n",
       "\n"
      ],
      "text/plain": [
       "[1] 525  10"
      ]
     },
     "metadata": {},
     "output_type": "display_data"
    },
    {
     "name": "stdout",
     "output_type": "stream",
     "text": [
      "[1] \"Testing Set Dimensions :\"\n"
     ]
    },
    {
     "data": {
      "text/html": [
       "<ol class=list-inline>\n",
       "\t<li>174</li>\n",
       "\t<li>10</li>\n",
       "</ol>\n"
      ],
      "text/latex": [
       "\\begin{enumerate*}\n",
       "\\item 174\n",
       "\\item 10\n",
       "\\end{enumerate*}\n"
      ],
      "text/markdown": [
       "1. 174\n",
       "2. 10\n",
       "\n",
       "\n"
      ],
      "text/plain": [
       "[1] 174  10"
      ]
     },
     "metadata": {},
     "output_type": "display_data"
    }
   ],
   "source": [
    "library(caTools)\n",
    "set.seed(123)\n",
    "split = sample.split(dataset$Class, SplitRatio = 0.75)\n",
    "training_set = subset(dataset, split ==TRUE)\n",
    "test_set = subset(dataset,split==FALSE)\n",
    "print(\"Training Set Dimensions :\")\n",
    "dim(training_set)\n",
    "print(\"Testing Set Dimensions :\")\n",
    "dim(test_set)"
   ]
  },
  {
   "cell_type": "code",
   "execution_count": 12,
   "metadata": {},
   "outputs": [
    {
     "name": "stderr",
     "output_type": "stream",
     "text": [
      "Warning message:\n",
      "“glm.fit: algorithm did not converge”Warning message:\n",
      "“glm.fit: fitted probabilities numerically 0 or 1 occurred”"
     ]
    }
   ],
   "source": [
    "classifier = glm(Class ~ .,\n",
    "                 family = binomial,\n",
    "                 data = training_set)"
   ]
  },
  {
   "cell_type": "code",
   "execution_count": 13,
   "metadata": {},
   "outputs": [],
   "source": [
    "prob_pred = predict(classifier,type='response',newdata = test_set[-10])"
   ]
  },
  {
   "cell_type": "code",
   "execution_count": 14,
   "metadata": {},
   "outputs": [],
   "source": [
    "y_pred = ifelse(prob_pred > 0.5,1,0)"
   ]
  },
  {
   "cell_type": "markdown",
   "metadata": {},
   "source": [
    "### Generating the confusion Matrix"
   ]
  },
  {
   "cell_type": "code",
   "execution_count": 15,
   "metadata": {},
   "outputs": [
    {
     "data": {
      "text/plain": [
       "   y_pred\n",
       "      0   1\n",
       "  0 107   2\n",
       "  1  12  48"
      ]
     },
     "metadata": {},
     "output_type": "display_data"
    }
   ],
   "source": [
    "cm = table(test_set[,10],y_pred)\n",
    "cm"
   ]
  },
  {
   "cell_type": "markdown",
   "metadata": {},
   "source": [
    "### Accuracy, Error Rate , Precision and Recall"
   ]
  },
  {
   "cell_type": "code",
   "execution_count": 16,
   "metadata": {},
   "outputs": [
    {
     "data": {
      "text/html": [
       "0.917159763313609"
      ],
      "text/latex": [
       "0.917159763313609"
      ],
      "text/markdown": [
       "0.917159763313609"
      ],
      "text/plain": [
       "[1] 0.9171598"
      ]
     },
     "metadata": {},
     "output_type": "display_data"
    }
   ],
   "source": [
    "accuracy <- table(y_pred, test_set[,10])\n",
    "sum(diag(accuracy))/sum(accuracy)"
   ]
  },
  {
   "cell_type": "code",
   "execution_count": 21,
   "metadata": {},
   "outputs": [],
   "source": [
    "true_positives = 48\n",
    "false_positive = 2\n",
    "false_negatives =12\n",
    "true_negatives = 107"
   ]
  },
  {
   "cell_type": "code",
   "execution_count": 22,
   "metadata": {},
   "outputs": [
    {
     "data": {
      "text/html": [
       "0.96"
      ],
      "text/latex": [
       "0.96"
      ],
      "text/markdown": [
       "0.96"
      ],
      "text/plain": [
       "[1] 0.96"
      ]
     },
     "metadata": {},
     "output_type": "display_data"
    }
   ],
   "source": [
    "Precision  = (true_positives)/(true_positives+false_positive)\n",
    "Precision"
   ]
  },
  {
   "cell_type": "code",
   "execution_count": 23,
   "metadata": {},
   "outputs": [
    {
     "data": {
      "text/html": [
       "0.8"
      ],
      "text/latex": [
       "0.8"
      ],
      "text/markdown": [
       "0.8"
      ],
      "text/plain": [
       "[1] 0.8"
      ]
     },
     "metadata": {},
     "output_type": "display_data"
    }
   ],
   "source": [
    "Recall = (true_positives)/(true_positives+false_negatives)\n",
    "Recall"
   ]
  },
  {
   "cell_type": "code",
   "execution_count": 24,
   "metadata": {},
   "outputs": [
    {
     "data": {
      "text/html": [
       "0.0804597701149425"
      ],
      "text/latex": [
       "0.0804597701149425"
      ],
      "text/markdown": [
       "0.0804597701149425"
      ],
      "text/plain": [
       "[1] 0.08045977"
      ]
     },
     "metadata": {},
     "output_type": "display_data"
    }
   ],
   "source": [
    "ErrorRate = (false_positive + false_negatives)/length(test_set[,10])\n",
    "ErrorRate"
   ]
  },
  {
   "cell_type": "code",
   "execution_count": null,
   "metadata": {},
   "outputs": [],
   "source": []
  },
  {
   "cell_type": "code",
   "execution_count": null,
   "metadata": {},
   "outputs": [],
   "source": []
  }
 ],
 "metadata": {
  "kernelspec": {
   "display_name": "R 3.4",
   "language": "R",
   "name": "ir34"
  },
  "language_info": {
   "codemirror_mode": "r",
   "file_extension": ".r",
   "mimetype": "text/x-r-source",
   "name": "R",
   "pygments_lexer": "r",
   "version": "3.4.3"
  }
 },
 "nbformat": 4,
 "nbformat_minor": 2
}
